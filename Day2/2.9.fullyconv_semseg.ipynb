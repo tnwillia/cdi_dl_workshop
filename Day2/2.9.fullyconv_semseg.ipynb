{
 "cells": [
  {
   "cell_type": "markdown",
   "metadata": {},
   "source": [
    "# Fully convolutional semantic segmentation"
   ]
  },
  {
   "cell_type": "markdown",
   "metadata": {},
   "source": [
    "> Written by Dr Daniel Buscombe, Northern Arizona University\n",
    "\n",
    "> Part of a series of notebooks for image recognition and classification using deep convolutional neural networks"
   ]
  },
  {
   "cell_type": "markdown",
   "metadata": {},
   "source": [
    "In this notebook, we retrain the VGG16 model to carry out 'fully convolutional' semantic segmentation\n",
    "\n",
    "We will implement the approach of [Long et al. 2015](https://people.eecs.berkeley.edu/~jonlong/long_shelhamer_fcn.pdf)"
   ]
  },
  {
   "cell_type": "markdown",
   "metadata": {},
   "source": [
    "![](figs/Slide47.PNG)"
   ]
  },
  {
   "cell_type": "markdown",
   "metadata": {},
   "source": [
    "![](figs/Slide48.PNG)"
   ]
  },
  {
   "cell_type": "markdown",
   "metadata": {},
   "source": [
    "We'll use the Grand Canyon sandbars data set. First we'll copy over the files from S3 to our local drive, then we'll train the model, and test the model outputs"
   ]
  },
  {
   "cell_type": "markdown",
   "metadata": {},
   "source": [
    "![](figs/dl_tools_fullyconv.png)"
   ]
  },
  {
   "cell_type": "markdown",
   "metadata": {},
   "source": [
    "## Preparing the data"
   ]
  },
  {
   "cell_type": "markdown",
   "metadata": {},
   "source": [
    "### Looking at the S3 file structure"
   ]
  },
  {
   "cell_type": "markdown",
   "metadata": {},
   "source": [
    "Let's load in our s3fs library and explore the contents of the 'fully_conv_semseg' folder"
   ]
  },
  {
   "cell_type": "code",
   "execution_count": 1,
   "metadata": {},
   "outputs": [],
   "source": [
    "import s3fs\n",
    "fs = s3fs.S3FileSystem(anon=True)\n",
    "root = 'esipfed/cdi-workshop'"
   ]
  },
  {
   "cell_type": "code",
   "execution_count": 2,
   "metadata": {},
   "outputs": [
    {
     "data": {
      "text/plain": [
       "['esipfed/cdi-workshop/fully_conv_semseg/vgg.zip',\n",
       " 'esipfed/cdi-workshop/fully_conv_semseg/data_gc',\n",
       " 'esipfed/cdi-workshop/fully_conv_semseg/data_ontario',\n",
       " 'esipfed/cdi-workshop/fully_conv_semseg/data_seabright',\n",
       " 'esipfed/cdi-workshop/fully_conv_semseg/vgg_graph']"
      ]
     },
     "execution_count": 2,
     "metadata": {},
     "output_type": "execute_result"
    }
   ],
   "source": [
    "fs.ls(root+'/fully_conv_semseg')"
   ]
  },
  {
   "cell_type": "code",
   "execution_count": 3,
   "metadata": {},
   "outputs": [
    {
     "data": {
      "text/plain": [
       "['esipfed/cdi-workshop/fully_conv_semseg/data_gc/labels/gtFine/train/gc/RC0089L_20161113_0758_gtFine_color.png',\n",
       " 'esipfed/cdi-workshop/fully_conv_semseg/data_gc/labels/gtFine/train/gc/RC0089L_20161113_0758_mres.mat',\n",
       " 'esipfed/cdi-workshop/fully_conv_semseg/data_gc/labels/gtFine/train/gc/RC0307Rf_20161106_1157_gtFine_color.png',\n",
       " 'esipfed/cdi-workshop/fully_conv_semseg/data_gc/labels/gtFine/train/gc/RC0307Rf_20161106_1157_mres.mat',\n",
       " 'esipfed/cdi-workshop/fully_conv_semseg/data_gc/labels/gtFine/train/gc/RC0414R_20131119_1358_gtFine_color.png',\n",
       " 'esipfed/cdi-workshop/fully_conv_semseg/data_gc/labels/gtFine/train/gc/RC0414R_20131119_1358_mres.mat',\n",
       " 'esipfed/cdi-workshop/fully_conv_semseg/data_gc/labels/gtFine/train/gc/RC0450L_20131118_0757_gtFine_color.png',\n",
       " 'esipfed/cdi-workshop/fully_conv_semseg/data_gc/labels/gtFine/train/gc/RC0450L_20131118_0757_mres.mat',\n",
       " 'esipfed/cdi-workshop/fully_conv_semseg/data_gc/labels/gtFine/train/gc/RC0515L_20141117_1558_gtFine_color.png',\n",
       " 'esipfed/cdi-workshop/fully_conv_semseg/data_gc/labels/gtFine/train/gc/RC0515L_20141117_1558_mres.mat',\n",
       " 'esipfed/cdi-workshop/fully_conv_semseg/data_gc/labels/gtFine/train/gc/RC0566R_20161113_1157_gtFine_color.png',\n",
       " 'esipfed/cdi-workshop/fully_conv_semseg/data_gc/labels/gtFine/train/gc/RC0566R_20161113_1157_mres.mat',\n",
       " 'esipfed/cdi-workshop/fully_conv_semseg/data_gc/labels/gtFine/train/gc/RC0658L_20141117_0959_gtFine_color.png',\n",
       " 'esipfed/cdi-workshop/fully_conv_semseg/data_gc/labels/gtFine/train/gc/RC0658L_20141117_0959_mres.mat']"
      ]
     },
     "execution_count": 3,
     "metadata": {},
     "output_type": "execute_result"
    }
   ],
   "source": [
    "fs.ls(root+'/fully_conv_semseg/data_gc/labels/gtFine/train/gc')"
   ]
  },
  {
   "cell_type": "markdown",
   "metadata": {},
   "source": [
    "### Creating samples"
   ]
  },
  {
   "cell_type": "markdown",
   "metadata": {},
   "source": [
    "You'll see a very specific folder structure for each of the datasets\n",
    "\n",
    "* top_level (data_gc)\n",
    "    * samples\n",
    "        * RGB\n",
    "            * train or val\n",
    "                * site name (gc)\n",
    "            \n",
    "* top_level (data_gc)\n",
    "    * labels\n",
    "        * gtFine\n",
    "            * train (or val)\n",
    "                * site name (gc)            "
   ]
  },
  {
   "cell_type": "code",
   "execution_count": null,
   "metadata": {},
   "outputs": [],
   "source": []
  },
  {
   "cell_type": "code",
   "execution_count": 4,
   "metadata": {},
   "outputs": [
    {
     "data": {
      "text/plain": [
       "7"
      ]
     },
     "execution_count": 4,
     "metadata": {},
     "output_type": "execute_result"
    }
   ],
   "source": [
    "direc = root+'/fully_conv_semseg/data_gc/samples/RGB/train/gc'\n",
    "files = [f for f in fs.ls(direc) if f.endswith('.png')]\n",
    "len(files)"
   ]
  },
  {
   "cell_type": "markdown",
   "metadata": {},
   "source": [
    "Create data structure for samples (images to train with)"
   ]
  },
  {
   "cell_type": "code",
   "execution_count": 5,
   "metadata": {},
   "outputs": [],
   "source": [
    "import os\n",
    "os.mkdir('data') ##root+os.sep+\n",
    "os.mkdir('data'+os.sep+'samples')  \n",
    "os.mkdir('data'+os.sep+'samples'+os.sep+'RGB')\n",
    "os.mkdir('data'+os.sep+'samples'+os.sep+'RGB'+os.sep+'train')\n",
    "os.mkdir('data'+os.sep+'samples'+os.sep+'RGB'+os.sep+'val')\n",
    "os.mkdir('data'+os.sep+'samples'+os.sep+'RGB'+os.sep+'train'+os.sep+'data')\n",
    "os.mkdir('data'+os.sep+'samples'+os.sep+'RGB'+os.sep+'val'+os.sep+'data')"
   ]
  },
  {
   "cell_type": "markdown",
   "metadata": {},
   "source": [
    "Next we need to copy over the files we need (this takes a while):"
   ]
  },
  {
   "cell_type": "code",
   "execution_count": 6,
   "metadata": {},
   "outputs": [
    {
     "name": "stdout",
     "output_type": "stream",
     "text": [
      "working on  esipfed/cdi-workshop/fully_conv_semseg/data_gc/samples/RGB/train/gc/RC0089L_20161113_0758_RGB.png\n",
      "working on  esipfed/cdi-workshop/fully_conv_semseg/data_gc/samples/RGB/train/gc/RC0307Rf_20161106_1157_RGB.png\n",
      "working on  esipfed/cdi-workshop/fully_conv_semseg/data_gc/samples/RGB/train/gc/RC0414R_20131119_1358_RGB.png\n",
      "working on  esipfed/cdi-workshop/fully_conv_semseg/data_gc/samples/RGB/train/gc/RC0450L_20131118_0757_RGB.png\n",
      "working on  esipfed/cdi-workshop/fully_conv_semseg/data_gc/samples/RGB/train/gc/RC0515L_20141117_1558_RGB.png\n",
      "working on  esipfed/cdi-workshop/fully_conv_semseg/data_gc/samples/RGB/train/gc/RC0566R_20161113_1157_RGB.png\n",
      "working on  esipfed/cdi-workshop/fully_conv_semseg/data_gc/samples/RGB/train/gc/RC0658L_20141117_0959_RGB.png\n"
     ]
    }
   ],
   "source": [
    "from imageio import imread, imwrite\n",
    "for file in files:\n",
    "    print(\"working on \",file)\n",
    "    with fs.open(file, 'rb') as fim:\n",
    "        image = imread(fim)   \n",
    "        imwrite('data'+os.sep+'samples'+os.sep+'RGB'+os.sep+'train'+os.sep+'data'+os.sep+file.split('/')[-1], image)"
   ]
  },
  {
   "cell_type": "markdown",
   "metadata": {},
   "source": [
    "This next bit finds the 'validation' files and copies them over"
   ]
  },
  {
   "cell_type": "code",
   "execution_count": 7,
   "metadata": {},
   "outputs": [
    {
     "data": {
      "text/plain": [
       "7"
      ]
     },
     "execution_count": 7,
     "metadata": {},
     "output_type": "execute_result"
    }
   ],
   "source": [
    "direc = root+'/fully_conv_semseg/data_gc/samples/RGB/val/gc'\n",
    "files = [f for f in fs.ls(direc) if f.endswith('.png')]\n",
    "len(files)"
   ]
  },
  {
   "cell_type": "code",
   "execution_count": 8,
   "metadata": {},
   "outputs": [
    {
     "name": "stdout",
     "output_type": "stream",
     "text": [
      "working on  esipfed/cdi-workshop/fully_conv_semseg/data_gc/samples/RGB/val/gc/RC0089L_20140925_0929_RGB.png\n",
      "working on  esipfed/cdi-workshop/fully_conv_semseg/data_gc/samples/RGB/val/gc/RC0307Rf_20131118_1346_RGB.png\n",
      "working on  esipfed/cdi-workshop/fully_conv_semseg/data_gc/samples/RGB/val/gc/RC0414R_20141109_1558_RGB.png\n",
      "working on  esipfed/cdi-workshop/fully_conv_semseg/data_gc/samples/RGB/val/gc/RC0450L_20161113_0756_RGB.png\n",
      "working on  esipfed/cdi-workshop/fully_conv_semseg/data_gc/samples/RGB/val/gc/RC0515L_20131118_1358_RGB.png\n",
      "working on  esipfed/cdi-workshop/fully_conv_semseg/data_gc/samples/RGB/val/gc/RC0566R_20131111_1158_RGB.png\n",
      "working on  esipfed/cdi-workshop/fully_conv_semseg/data_gc/samples/RGB/val/gc/RC0658L_20131111_1359_RGB.png\n"
     ]
    }
   ],
   "source": [
    "for file in files:\n",
    "    print(\"working on \",file)\n",
    "    with fs.open(file, 'rb') as fim:\n",
    "        image = imread(fim)   \n",
    "        imwrite('data'+os.sep+'samples'+os.sep+'RGB'+os.sep+'val'+os.sep+'data'+os.sep+file.split('/')[-1], image)"
   ]
  },
  {
   "cell_type": "markdown",
   "metadata": {},
   "source": [
    "### Creating labels"
   ]
  },
  {
   "cell_type": "markdown",
   "metadata": {},
   "source": [
    "We recreate the file structure for the labels"
   ]
  },
  {
   "cell_type": "code",
   "execution_count": 9,
   "metadata": {},
   "outputs": [
    {
     "name": "stdout",
     "output_type": "stream",
     "text": [
      "/home/jovyan/cdi_dl_workshop/Day2\r\n"
     ]
    }
   ],
   "source": [
    "!pwd"
   ]
  },
  {
   "cell_type": "code",
   "execution_count": 10,
   "metadata": {},
   "outputs": [],
   "source": [
    "os.mkdir('data'+os.sep+'labels')\n",
    "os.mkdir('data'+os.sep+'labels'+os.sep+'gtFine')\n",
    "os.mkdir('data'+os.sep+'labels'+os.sep+'gtFine'+os.sep+'train')\n",
    "os.mkdir('data'+os.sep+'labels'+os.sep+'gtFine'+os.sep+'val')\n",
    "os.mkdir('data'+os.sep+'labels'+os.sep+'gtFine'+os.sep+'train'+os.sep+'data')\n",
    "os.mkdir('data'+os.sep+'labels'+os.sep+'gtFine'+os.sep+'val'+os.sep+'data') "
   ]
  },
  {
   "cell_type": "code",
   "execution_count": 11,
   "metadata": {},
   "outputs": [
    {
     "data": {
      "text/plain": [
       "7"
      ]
     },
     "execution_count": 11,
     "metadata": {},
     "output_type": "execute_result"
    }
   ],
   "source": [
    "direc = root+'/fully_conv_semseg/data_gc/labels/gtFine/train/gc'\n",
    "files = [f for f in fs.ls(direc) if f.endswith('.png')]\n",
    "len(files)"
   ]
  },
  {
   "cell_type": "code",
   "execution_count": 12,
   "metadata": {},
   "outputs": [
    {
     "name": "stdout",
     "output_type": "stream",
     "text": [
      "working on  esipfed/cdi-workshop/fully_conv_semseg/data_gc/labels/gtFine/train/gc/RC0089L_20161113_0758_gtFine_color.png\n",
      "working on  esipfed/cdi-workshop/fully_conv_semseg/data_gc/labels/gtFine/train/gc/RC0307Rf_20161106_1157_gtFine_color.png\n",
      "working on  esipfed/cdi-workshop/fully_conv_semseg/data_gc/labels/gtFine/train/gc/RC0414R_20131119_1358_gtFine_color.png\n",
      "working on  esipfed/cdi-workshop/fully_conv_semseg/data_gc/labels/gtFine/train/gc/RC0450L_20131118_0757_gtFine_color.png\n",
      "working on  esipfed/cdi-workshop/fully_conv_semseg/data_gc/labels/gtFine/train/gc/RC0515L_20141117_1558_gtFine_color.png\n",
      "working on  esipfed/cdi-workshop/fully_conv_semseg/data_gc/labels/gtFine/train/gc/RC0566R_20161113_1157_gtFine_color.png\n",
      "working on  esipfed/cdi-workshop/fully_conv_semseg/data_gc/labels/gtFine/train/gc/RC0658L_20141117_0959_gtFine_color.png\n"
     ]
    }
   ],
   "source": [
    "for file in files:\n",
    "    print(\"working on \",file)\n",
    "    with fs.open(file, 'rb') as fim:\n",
    "        image = imread(fim)   \n",
    "        imwrite('data'+os.sep+'labels'+os.sep+'gtFine'+os.sep+'train'+os.sep+'data'+os.sep+file.split('/')[-1], image)"
   ]
  },
  {
   "cell_type": "code",
   "execution_count": 13,
   "metadata": {},
   "outputs": [
    {
     "name": "stdout",
     "output_type": "stream",
     "text": [
      "working on  esipfed/cdi-workshop/fully_conv_semseg/data_gc/labels/gtFine/val/gc/RC0089L_20140925_0929_gtFine_color.png\n",
      "working on  esipfed/cdi-workshop/fully_conv_semseg/data_gc/labels/gtFine/val/gc/RC0307Rf_20131118_1346_gtFine_color.png\n",
      "working on  esipfed/cdi-workshop/fully_conv_semseg/data_gc/labels/gtFine/val/gc/RC0414R_20141109_1558_gtFine_color.png\n",
      "working on  esipfed/cdi-workshop/fully_conv_semseg/data_gc/labels/gtFine/val/gc/RC0450L_20161113_0756_gtFine_color.png\n",
      "working on  esipfed/cdi-workshop/fully_conv_semseg/data_gc/labels/gtFine/val/gc/RC0515L_20131118_1358_gtFine_color.png\n",
      "working on  esipfed/cdi-workshop/fully_conv_semseg/data_gc/labels/gtFine/val/gc/RC0566R_20131111_1158_gtFine_color.png\n",
      "working on  esipfed/cdi-workshop/fully_conv_semseg/data_gc/labels/gtFine/val/gc/RC0658L_20131111_1359_gtFine_color.png\n"
     ]
    }
   ],
   "source": [
    "direc = root+'/fully_conv_semseg/data_gc/labels/gtFine/val/gc'\n",
    "files = [f for f in fs.ls(direc) if f.endswith('.png')]\n",
    "\n",
    "for file in files:\n",
    "    print(\"working on \",file)\n",
    "    with fs.open(file, 'rb') as fim:\n",
    "        image = imread(fim)   \n",
    "        imwrite('data'+os.sep+'labels'+os.sep+'gtFine'+os.sep+'val'+os.sep+'data'+os.sep+file.split('/')[-1], image)"
   ]
  },
  {
   "cell_type": "markdown",
   "metadata": {},
   "source": [
    "### Create a labeldefs.txt file"
   ]
  },
  {
   "cell_type": "markdown",
   "metadata": {},
   "source": [
    "We need to tell the program what the classes are and what RGB color they correspond to in the label imagery"
   ]
  },
  {
   "cell_type": "markdown",
   "metadata": {},
   "source": [
    "First, let's change directory and run the code in the 'semseg_fullyconv' folder"
   ]
  },
  {
   "cell_type": "code",
   "execution_count": 14,
   "metadata": {},
   "outputs": [],
   "source": [
    "import os\n",
    "os.chdir('semseg_fullyconv/')"
   ]
  },
  {
   "cell_type": "code",
   "execution_count": 15,
   "metadata": {},
   "outputs": [
    {
     "name": "stdout",
     "output_type": "stream",
     "text": [
      "/home/jovyan/cdi_dl_workshop/Day2/semseg_fullyconv\r\n"
     ]
    }
   ],
   "source": [
    "!pwd"
   ]
  },
  {
   "cell_type": "markdown",
   "metadata": {},
   "source": [
    "Specify labels and associated red, green, and blue colors"
   ]
  },
  {
   "cell_type": "code",
   "execution_count": 16,
   "metadata": {},
   "outputs": [],
   "source": [
    "labels = ['rock','water','veg','sand','other']\n",
    "r = [102, 0, 0, 255, 255]\n",
    "g = [51, 0, 255, 255, 0]\n",
    "b = [0, 255, 0, 0, 0]"
   ]
  },
  {
   "cell_type": "code",
   "execution_count": 17,
   "metadata": {},
   "outputs": [],
   "source": [
    "with open('labeldefs.txt', 'a') as f:\n",
    "    for item in range(len(labels)):\n",
    "        f.write(labels[item]+','+str(r[item])+','+str(g[item])+','+str(b[item])+'\\n')"
   ]
  },
  {
   "cell_type": "code",
   "execution_count": 18,
   "metadata": {},
   "outputs": [
    {
     "name": "stdout",
     "output_type": "stream",
     "text": [
      "rock,102,51,0\r\n",
      "water,0,0,255\r\n",
      "veg,0,255,0\r\n",
      "sand,255,255,0\r\n",
      "other,255,0,0\r\n"
     ]
    }
   ],
   "source": [
    "!cat labeldefs.txt"
   ]
  },
  {
   "cell_type": "markdown",
   "metadata": {},
   "source": [
    "## Training the Net"
   ]
  },
  {
   "cell_type": "markdown",
   "metadata": {},
   "source": [
    "For illustrative purposes, to save time we are going to train the model using just 15 epochs. For real applications, you would want to train for tens to hundreds of epochs"
   ]
  },
  {
   "cell_type": "code",
   "execution_count": 19,
   "metadata": {},
   "outputs": [],
   "source": [
    "out_direc = 'data_test10'\n",
    "data_source = 'data'\n",
    "data_dir = '../data'\n",
    "num_epochs=15"
   ]
  },
  {
   "cell_type": "markdown",
   "metadata": {},
   "source": [
    "While the model trains, we'll watch a video that explains what the VGG model is"
   ]
  },
  {
   "cell_type": "code",
   "execution_count": 20,
   "metadata": {},
   "outputs": [
    {
     "data": {
      "image/jpeg": "[encoded data removed]",
      "text/html": [
       "\n",
       "        <iframe\n",
       "            width=\"400\"\n",
       "            height=\"300\"\n",
       "            src=\"https://www.youtube.com/embed/DAOcjicFr1Y?start=880\"\n",
       "            frameborder=\"0\"\n",
       "            allowfullscreen\n",
       "        ></iframe>\n",
       "        "
      ],
      "text/plain": [
       "<IPython.lib.display.YouTubeVideo at 0x7f7ea5288780>"
      ]
     },
     "execution_count": 20,
     "metadata": {},
     "output_type": "execute_result"
    }
   ],
   "source": [
    "from IPython.display import YouTubeVideo\n",
    "from datetime import timedelta\n",
    "\n",
    "start=int(timedelta(hours=0, minutes=14, seconds=40).total_seconds())\n",
    "\n",
    "YouTubeVideo(\"DAOcjicFr1Y\", start=start)"
   ]
  },
  {
   "cell_type": "markdown",
   "metadata": {},
   "source": [
    "Now we train the model by calling 'train.py'\n",
    "\n",
    "It is actually set up to download the correct model (VGG 16) from the internet before retraining it"
   ]
  },
  {
   "cell_type": "code",
   "execution_count": 21,
   "metadata": {},
   "outputs": [
    {
     "name": "stderr",
     "output_type": "stream",
     "text": [
      "\r",
      "0.00B [00:00, ?B/s]"
     ]
    },
    {
     "name": "stdout",
     "output_type": "stream",
     "text": [
      "[i] Project name:          data_test10\n",
      "[i] Data source:           data\n",
      "[i] Data directory:        ../data\n",
      "[i] VGG directory:         vgg_graph\n",
      "[i] # epochs:              15\n",
      "[i] Batch size:            20\n",
      "[i] Tensorboard directory: tb\n",
      "[i] Checkpoint interval:   50\n",
      "[i] Creating directory data_test10...\n",
      "[i] Configuring data source...\n",
      "[i] # training samples:    7\n",
      "[i] # validation samples:  7\n",
      "[i] # classes:             5\n",
      "[i] Image size:            (512, 256)\n",
      "[i] Creating the model...\n"
     ]
    },
    {
     "name": "stderr",
     "output_type": "stream",
     "text": [
      "997MB [00:20, 49.5MB/s]                               \n"
     ]
    },
    {
     "name": "stdout",
     "output_type": "stream",
     "text": [
      "INFO:tensorflow:Restoring parameters from vgg_graph/vgg/variables/variables\n",
      "WARNING:tensorflow:From /home/jovyan/cdi_dl_workshop/Day2/semseg_fullyconv/fcnvgg.py:154: softmax_cross_entropy_with_logits (from tensorflow.python.ops.nn_ops) is deprecated and will be removed in a future version.\n",
      "Instructions for updating:\n",
      "\n",
      "Future major versions of TensorFlow will allow gradients to flow\n",
      "into the labels input on backprop by default.\n",
      "\n",
      "See @{tf.nn.softmax_cross_entropy_with_logits_v2}.\n",
      "\n"
     ]
    },
    {
     "name": "stderr",
     "output_type": "stream",
     "text": [
      "\r",
      "[i] Epoch  1/15:   0%|          | 0/1 [00:00<?, ?batches/s]"
     ]
    },
    {
     "name": "stdout",
     "output_type": "stream",
     "text": [
      "[i] Training...\n"
     ]
    },
    {
     "name": "stderr",
     "output_type": "stream",
     "text": [
      "[i] Epoch  1/15: 100%|██████████| 1/1 [00:51<00:00, 52.00s/batches]\n",
      "[i] Epoch  2/15: 100%|██████████| 1/1 [00:49<00:00, 49.62s/batches]\n",
      "[i] Epoch  3/15: 100%|██████████| 1/1 [00:49<00:00, 49.54s/batches]\n",
      "[i] Epoch  4/15: 100%|██████████| 1/1 [00:49<00:00, 49.51s/batches]\n",
      "[i] Epoch  5/15: 100%|██████████| 1/1 [00:49<00:00, 49.40s/batches]\n",
      "[i] Epoch  6/15: 100%|██████████| 1/1 [00:49<00:00, 49.71s/batches]\n",
      "[i] Epoch  7/15: 100%|██████████| 1/1 [00:49<00:00, 49.62s/batches]\n",
      "[i] Epoch  8/15: 100%|██████████| 1/1 [00:49<00:00, 49.76s/batches]\n",
      "[i] Epoch  9/15: 100%|██████████| 1/1 [00:49<00:00, 49.71s/batches]\n",
      "[i] Epoch 10/15: 100%|██████████| 1/1 [00:49<00:00, 49.46s/batches]\n",
      "[i] Epoch 11/15: 100%|██████████| 1/1 [00:49<00:00, 49.45s/batches]\n",
      "[i] Epoch 12/15: 100%|██████████| 1/1 [00:49<00:00, 49.67s/batches]\n",
      "[i] Epoch 13/15: 100%|██████████| 1/1 [00:49<00:00, 49.55s/batches]\n",
      "[i] Epoch 14/15: 100%|██████████| 1/1 [00:49<00:00, 49.54s/batches]\n",
      "[i] Epoch 15/15: 100%|██████████| 1/1 [00:49<00:00, 49.52s/batches]\n"
     ]
    },
    {
     "name": "stdout",
     "output_type": "stream",
     "text": [
      "Checkpoint saved: data_test10/final.ckpt\n"
     ]
    }
   ],
   "source": [
    "%run train.py --name $out_direc --data-source $data_source \\\n",
    "                                 --data-dir $data_dir --epochs $num_epochs"
   ]
  },
  {
   "cell_type": "markdown",
   "metadata": {},
   "source": [
    "### Tidying up"
   ]
  },
  {
   "cell_type": "markdown",
   "metadata": {},
   "source": [
    "Remove the VGG graph"
   ]
  },
  {
   "cell_type": "code",
   "execution_count": 22,
   "metadata": {},
   "outputs": [],
   "source": [
    "#!rm vgg.zip\n",
    "#!rm -rf vgg_graph/"
   ]
  },
  {
   "cell_type": "markdown",
   "metadata": {},
   "source": [
    "## Testing the model"
   ]
  },
  {
   "cell_type": "markdown",
   "metadata": {},
   "source": [
    "First we specify an output directory, and point the program to the location of the 'test' images"
   ]
  },
  {
   "cell_type": "code",
   "execution_count": 30,
   "metadata": {},
   "outputs": [],
   "source": [
    "samps_dir = '../data/samples/RGB/val/data'\n",
    "output = 'test_output'"
   ]
  },
  {
   "cell_type": "code",
   "execution_count": 31,
   "metadata": {},
   "outputs": [
    {
     "name": "stderr",
     "output_type": "stream",
     "text": [
      "ERROR:root:File `'./infer.py'` not found.\n"
     ]
    }
   ],
   "source": [
    "%run ./infer.py --name $out_direc --samples-dir $samps_dir \\\n",
    "                                 --output-dir $output --data-source $data_source"
   ]
  },
  {
   "cell_type": "markdown",
   "metadata": {},
   "source": [
    "Take a look in the output folder. The labeling looks 'blobby' because\n",
    "* we didn't train the model for very long\n",
    "* there is no post-processing"
   ]
  },
  {
   "cell_type": "markdown",
   "metadata": {},
   "source": [
    "## Testing the model with CRF post-processing"
   ]
  },
  {
   "cell_type": "markdown",
   "metadata": {},
   "source": [
    "This time we'll run the inference with CRF post processing to try to get more refined label images"
   ]
  },
  {
   "cell_type": "code",
   "execution_count": 25,
   "metadata": {},
   "outputs": [
    {
     "name": "stdout",
     "output_type": "stream",
     "text": [
      "[i] Project name:       data_test10\n",
      "[i] Network checkpoint: data_test10/final.ckpt\n",
      "[i] Metagraph file:     data_test10/final.ckpt.meta\n",
      "[i] Number of samples:  7\n",
      "[i] Output directory:   test_output\n",
      "[i] Image size:         (512, 256)\n",
      "[i] # classes:          5\n",
      "[i] Batch size:         20\n",
      "[i] Creating the model...\n",
      "INFO:tensorflow:Restoring parameters from data_test10/final.ckpt\n"
     ]
    },
    {
     "name": "stderr",
     "output_type": "stream",
     "text": [
      "[i] Processing samples:   0%|          | 0/1 [00:00<?, ?batches/s]/opt/conda/lib/python3.6/site-packages/skimage/util/dtype.py:126: UserWarning: Possible sign loss when converting negative image of type int64 to positive image of type uint8.\n",
      "  .format(dtypeobj_in, dtypeobj_out))\n",
      "/opt/conda/lib/python3.6/site-packages/skimage/util/dtype.py:179: UserWarning: Downcasting int64 to uint8 without scaling because max value 4 fits in uint8\n",
      "  \"value {} fits in {}\".format(a.dtype, dtype, a.max(), dtype))\n",
      "/opt/conda/lib/python3.6/site-packages/skimage/util/dtype.py:179: UserWarning: Downcasting int64 to uint8 without scaling because max value 3 fits in uint8\n",
      "  \"value {} fits in {}\".format(a.dtype, dtype, a.max(), dtype))\n",
      "[i] Processing samples: 100%|██████████| 1/1 [01:13<00:00, 73.44s/batches]"
     ]
    },
    {
     "name": "stdout",
     "output_type": "stream",
     "text": [
      "[i] All done.\n"
     ]
    },
    {
     "name": "stderr",
     "output_type": "stream",
     "text": [
      "\n"
     ]
    }
   ],
   "source": [
    "%run ./infer_crf.py --name $out_direc --samples-dir $samps_dir \\\n",
    "                                 --output-dir $output --data-source $data_source"
   ]
  },
  {
   "cell_type": "markdown",
   "metadata": {},
   "source": [
    "Take a look in the output folder again - you'll see a new set of files"
   ]
  },
  {
   "cell_type": "markdown",
   "metadata": {},
   "source": [
    "### Tidying up  ____STOP HERE unless you want to DELETE everything"
   ]
  },
  {
   "cell_type": "markdown",
   "metadata": {},
   "source": [
    "To remove the model, tensorboard info, and outputs:"
   ]
  },
  {
   "cell_type": "code",
   "execution_count": 26,
   "metadata": {},
   "outputs": [],
   "source": [
    "#!rm -rf data_test10\n",
    "#!rm -rf tb\n",
    "#!rm -rf test_output"
   ]
  },
  {
   "cell_type": "markdown",
   "metadata": {},
   "source": [
    "Remove the labeldefs.txt file"
   ]
  },
  {
   "cell_type": "code",
   "execution_count": 27,
   "metadata": {},
   "outputs": [],
   "source": [
    "#!rm labeldefs.txt"
   ]
  },
  {
   "cell_type": "markdown",
   "metadata": {},
   "source": [
    "change directory"
   ]
  },
  {
   "cell_type": "code",
   "execution_count": 28,
   "metadata": {},
   "outputs": [
    {
     "name": "stdout",
     "output_type": "stream",
     "text": [
      "/home/jovyan/cdi_dl_workshop/Day2\r\n"
     ]
    }
   ],
   "source": [
    "os.chdir('..')\n",
    "!pwd"
   ]
  },
  {
   "cell_type": "markdown",
   "metadata": {},
   "source": [
    "Delete the 'data' directory that we copied over from S3 earlier"
   ]
  },
  {
   "cell_type": "code",
   "execution_count": 29,
   "metadata": {},
   "outputs": [],
   "source": [
    "#!rm -rf data"
   ]
  },
  {
   "cell_type": "markdown",
   "metadata": {},
   "source": [
    "## DL-tools"
   ]
  },
  {
   "cell_type": "markdown",
   "metadata": {},
   "source": [
    "The equivalent function in DL-tools is called and is the same as used here. The key is getting the data in a strict format such as we did here. Then the functions are executed in the following sequence\n",
    "\n",
    "1. ```python semseg_fullyconv\\make_labels.py```\n",
    "   * this function creates label rgb images from class data in the .mat files\n",
    "2. ```python semseg_fullyconv\\train.py```\n",
    "    * this function trains the network\n",
    "3. ```python semseg_fullyconv\\infer.py``` or ```python semseg_fullyconv\\infer_crf.py```\n",
    "    * this function carries out the semantic segmentation"
   ]
  },
  {
   "cell_type": "code",
   "execution_count": null,
   "metadata": {},
   "outputs": [],
   "source": []
  }
 ],
 "metadata": {
  "kernelspec": {
   "display_name": "Python [default]",
   "language": "python",
   "name": "python3"
  },
  "language_info": {
   "codemirror_mode": {
    "name": "ipython",
    "version": 3
   },
   "file_extension": ".py",
   "mimetype": "text/x-python",
   "name": "python",
   "nbconvert_exporter": "python",
   "pygments_lexer": "ipython3",
   "version": "3.6.5"
  }
 },
 "nbformat": 4,
 "nbformat_minor": 2
}
